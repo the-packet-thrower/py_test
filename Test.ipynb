{
 "cells": [
  {
   "cell_type": "markdown",
   "metadata": {},
   "source": [
    "# Test\n",
    "\n",
    "hjjhjhjjh\n",
    "hjhjkh\n",
    "\n",
    "<h1>test</h1>\n",
    "\n",
    "```\n",
    "LEAF11# show ip route\n",
    "IP Route Table for VRF \"default\"\n",
    "'*' denotes best ucast next-hop\n",
    "'**' denotes best mcast next-hop\n",
    "'[x/y]' denotes [preference/metric]\n",
    "'%<string>' in via output denotes VRF <string>\n",
    "\n",
    "10.0.0.116/30, ubest/mbest: 1/0\n",
    "    *via 10.1.22.254, Eth1/2, [110/80], 3d07h, ospf-1, intra\n",
    "10.1.11.0/24, ubest/mbest: 1/0, attached\n",
    "    *via 10.1.11.1, Eth1/1, [0/0], 3d07h, direct\n",
    "10.1.11.1/32, ubest/mbest: 1/0, attached\n",
    "    *via 10.1.11.1, Eth1/1, [0/0], 3d07h, local\n",
    "10.1.22.0/24, ubest/mbest: 1/0, attached\n",
    "    *via 10.1.22.1, Eth1/2, [0/0], 3d07h, direct\n",
    "10.1.22.1/32, ubest/mbest: 1/0, attached\n",
    "    *via 10.1.22.1, Eth1/2, [0/0], 3d07h, local\n",
    "10.2.11.0/24, ubest/mbest: 1/0\n",
    "    *via 10.1.22.254, Eth1/2, [110/120], 3d07h, ospf-1, intra\n",
    "10.2.22.0/24, ubest/mbest: 1/0\n",
    "    *via 10.1.22.254, Eth1/2, [110/80], 3d07h, ospf-1, intra\n",
    "10.3.11.0/24, ubest/mbest: 1/0\n",
    "    *via 10.1.11.254, Eth1/1, [110/140], 3d07h, ospf-1, intra\n",
    "10.3.22.0/24, ubest/mbest: 1/0\n",
    "    *via 10.1.22.254, Eth1/2, [110/80], 3d07h, ospf-1, intra\n",
    "10.11.21.0/24, ubest/mbest: 1/0, attached\n",
    "    *via 10.11.21.253, Vlan3001, [0/0], 3d07h, direct\n",
    "10.11.21.253/32, ubest/mbest: 1/0, attached\n",
    "    *via 10.11.21.253, Vlan3001, [0/0], 3d07h, local\n",
    "10.22.254.0/24, ubest/mbest: 1/0\n",
    "    *via 10.1.22.254, Eth1/2, [110/140], 3d07h, ospf-1, intra\n",
    "192.168.255.1/32, ubest/mbest: 2/0, attached\n",
    "    *via 192.168.255.1, Lo0, [0/0], 3d07h, local\n",
    "    *via 192.168.255.1, Lo0, [0/0], 3d07h, direct\n",
    "192.168.255.2/32, ubest/mbest: 1/0\n",
    "    *via 10.1.22.254, Eth1/2, [110/81], 3d07h, ospf-1, intra\n",
    "192.168.255.3/32, ubest/mbest: 1/0\n",
    "    *via 10.1.22.254, Eth1/2, [110/81], 3d07h, ospf-1, intra\n",
    "192.168.255.11/32, ubest/mbest: 1/0\n",
    "    *via 10.1.11.254, Eth1/1, [110/101], 3d07h, ospf-1, intra\n",
    "192.168.255.22/32, ubest/mbest: 1/0\n",
    "    *via 10.1.22.254, Eth1/2, [110/41], 3d07h, ospf-1, intra\n",
    "192.168.255.255/32, ubest/mbest: 1/0\n",
    "    *via 10.1.22.254, Eth1/2, [110/41], 3d07h, ospf-1, intra\n",
    "```"
   ]
  },
  {
   "cell_type": "code",
   "execution_count": null,
   "metadata": {
    "collapsed": true
   },
   "outputs": [],
   "source": [
    "print (\"hello world\")\n",
    "print (\"CATS!!!\")"
   ]
  },
  {
   "cell_type": "code",
   "execution_count": null,
   "metadata": {
    "collapsed": true
   },
   "outputs": [],
   "source": [
    "meow = \"cats\""
   ]
  },
  {
   "cell_type": "code",
   "execution_count": null,
   "metadata": {
    "collapsed": true
   },
   "outputs": [],
   "source": [
    "print meow"
   ]
  },
  {
   "cell_type": "code",
   "execution_count": 2,
   "metadata": {
    "collapsed": false
   },
   "outputs": [
    {
     "name": "stdout",
     "output_type": "stream",
     "text": [
      "cats\n"
     ]
    }
   ],
   "source": []
  },
  {
   "cell_type": "code",
   "execution_count": 3,
   "metadata": {
    "collapsed": false
   },
   "outputs": [
    {
     "name": "stdout",
     "output_type": "stream",
     "text": [
      "MEOW\n"
     ]
    }
   ],
   "source": [
    "if meow == \"cats\":\n",
    "    print (\"MEOW\")"
   ]
  },
  {
   "cell_type": "code",
   "execution_count": null,
   "metadata": {
    "collapsed": true
   },
   "outputs": [],
   "source": []
  }
 ],
 "metadata": {
  "anaconda-cloud": {},
  "kernelspec": {
   "display_name": "Python [default]",
   "language": "python",
   "name": "python2"
  },
  "language_info": {
   "codemirror_mode": {
    "name": "ipython",
    "version": 2
   },
   "file_extension": ".py",
   "mimetype": "text/x-python",
   "name": "python",
   "nbconvert_exporter": "python",
   "pygments_lexer": "ipython2",
   "version": "2.7.12"
  }
 },
 "nbformat": 4,
 "nbformat_minor": 1
}
